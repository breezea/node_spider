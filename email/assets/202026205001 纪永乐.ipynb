{
 "cells": [
  {
   "cell_type": "code",
   "execution_count": 33,
   "metadata": {},
   "outputs": [
    {
     "data": {
      "text/plain": [
       "['研究生', '命', '的', '起源']"
      ]
     },
     "execution_count": 33,
     "metadata": {},
     "output_type": "execute_result"
    }
   ],
   "source": [
    "user_dict = ['研究', '研究生', '生命', '命', '的', '起源']\n",
    "sentence = \"研究生命的起源\"\n",
    "\n",
    "def FMM_func(user_dict, sentence,):\n",
    "\n",
    "    max_length = max([len(item) for item in user_dict])\n",
    "\n",
    "    def check(word):\n",
    "        return word in user_dict or len(word) == 1\n",
    "\n",
    "    res = []\n",
    "    sentence_length = len(sentence)\n",
    "    index = 0\n",
    "\n",
    "    while index <  sentence_length:\n",
    "        for word_length in range(max_length, 0, -1):\n",
    "            if (index+word_length > sentence_length):\n",
    "                current_word = sentence[index:sentence_length]\n",
    "            else:\n",
    "                current_word = sentence[index:index+word_length]\n",
    "            if check(current_word) :\n",
    "                res.append(current_word)\n",
    "                index+=word_length\n",
    "                break\n",
    "    return res\n",
    "FMM_func(user_dict, sentence)\n"
   ]
  },
  {
   "cell_type": "code",
   "execution_count": 32,
   "metadata": {},
   "outputs": [
    {
     "data": {
      "text/plain": [
       "['研究', '生命', '的', '起源']"
      ]
     },
     "execution_count": 32,
     "metadata": {},
     "output_type": "execute_result"
    }
   ],
   "source": [
    "def BMM_func(user_dict, sentence):\n",
    "    max_length = max([len(item) for item in user_dict])\n",
    "\n",
    "    def check(word):\n",
    "        return word in user_dict or len(word) == 1\n",
    "    \n",
    "    res = []\n",
    "    index = len(sentence) \n",
    "\n",
    "    while index > 0:\n",
    "        for word_length in range(max_length,0,-1):\n",
    "            if index-word_length < 0:\n",
    "                current_word = sentence[0:index]\n",
    "            else:\n",
    "                current_word = sentence[index-word_length:index]\n",
    "            if check(current_word):\n",
    "                res.append(current_word)\n",
    "                index -= word_length\n",
    "                break\n",
    "    return res[::-1]\n",
    "BMM_func(user_dict, sentence) "
   ]
  }
 ],
 "metadata": {
  "kernelspec": {
   "display_name": "Python 3.8.8 64-bit",
   "language": "python",
   "name": "python3"
  },
  "language_info": {
   "codemirror_mode": {
    "name": "ipython",
    "version": 3
   },
   "file_extension": ".py",
   "mimetype": "text/x-python",
   "name": "python",
   "nbconvert_exporter": "python",
   "pygments_lexer": "ipython3",
   "version": "3.8.8"
  },
  "orig_nbformat": 4,
  "vscode": {
   "interpreter": {
    "hash": "3a53c88f4fdc719dd3265ddb13e8e9d7137a6cb76512705960f4604c66fa0a8c"
   }
  }
 },
 "nbformat": 4,
 "nbformat_minor": 2
}
